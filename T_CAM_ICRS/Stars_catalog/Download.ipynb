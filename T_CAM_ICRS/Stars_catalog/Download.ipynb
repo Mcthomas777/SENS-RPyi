{
 "cells": [
  {
   "cell_type": "markdown",
   "metadata": {},
   "source": [
    "# The Tycho-2 Catalogue : I/259 \n",
    "\n",
    "The Tycho-2 Catalogue is an astrometric reference catalogue containing positions and proper motions as well as two-colour photometric data for the 2.5 million brightest stars in the sky. The Tycho-2 positions and magnitudes are based on precisely the same observations as the original Tycho Catalogue (hereafter Tycho-1; see Cat. I/239)) collected by the star mapper of the ESA Hipparcos satellite, but Tycho-2 is much bigger and slightly more precise, owing to a more advanced reduction technique. Components of double stars with separations down to 0.8 arcsec are included. Proper motions precise to about 2.5 mas/yr are given as derived from a comparison with the Astrographic Catalogue and 143 other ground-based astrometric catalogues, all reduced to the Hipparcos celestial coordinate system. Tycho-2 supersedes in most applications Tycho-1, as well as the ACT (Cat. I/246) and TRC (Cat. I/250) catalogues based on Tycho-1. Supplement-1 lists stars from the Hipparcos and Tycho-1 Catalogues which are not in Tycho-2. Supplement-2 lists 1146 Tycho-1 stars which are probably either false or heavily disturbed. For more information, please consult the Tycho-2 home page: http://www.astro.ku.dk/~erik/Tycho-2\n",
    "\n",
    "Vizier : https://cdsarc.u-strasbg.fr/viz-bin/cat/I/259"
   ]
  },
  {
   "cell_type": "code",
   "execution_count": 1,
   "metadata": {},
   "outputs": [],
   "source": [
    "from astroquery.vizier import Vizier"
   ]
  },
  {
   "cell_type": "code",
   "execution_count": 2,
   "metadata": {},
   "outputs": [],
   "source": [
    "Vizier.ROW_LIMIT = -1"
   ]
  },
  {
   "cell_type": "code",
   "execution_count": 4,
   "metadata": {},
   "outputs": [],
   "source": [
    "catalog = Vizier.get_catalogs('I/259')"
   ]
  },
  {
   "cell_type": "code",
   "execution_count": 7,
   "metadata": {},
   "outputs": [
    {
     "data": {
      "text/plain": [
       "TableList with 3 tables:\n",
       "\t'0:I/259/tyc2' with 10 column(s) and 2539913 row(s) \n",
       "\t'1:I/259/suppl_1' with 10 column(s) and 17588 row(s) \n",
       "\t'2:I/259/suppl_2' with 10 column(s) and 1146 row(s) "
      ]
     },
     "execution_count": 7,
     "metadata": {},
     "output_type": "execute_result"
    }
   ],
   "source": [
    "catalog "
   ]
  },
  {
   "cell_type": "code",
   "execution_count": 19,
   "metadata": {},
   "outputs": [],
   "source": [
    "catalog[0].write('./data/tyc2.h5', format='hdf5', path='data')\n",
    "catalog[1].write('./data/suppl_1.h5', format='hdf5', path='data')\n",
    "catalog[2].write('./data/suppl_2.h5', format='hdf5', path='data')"
   ]
  }
 ],
 "metadata": {
  "kernelspec": {
   "display_name": "Python 3",
   "language": "python",
   "name": "python3"
  },
  "language_info": {
   "codemirror_mode": {
    "name": "ipython",
    "version": 3
   },
   "file_extension": ".py",
   "mimetype": "text/x-python",
   "name": "python",
   "nbconvert_exporter": "python",
   "pygments_lexer": "ipython3",
   "version": "3.7.3"
  }
 },
 "nbformat": 4,
 "nbformat_minor": 4
}
